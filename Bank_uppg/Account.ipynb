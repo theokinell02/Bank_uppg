{
 "cells": [
  {
   "cell_type": "code",
   "execution_count": null,
   "id": "8f3552fc",
   "metadata": {},
   "outputs": [],
   "source": [
    "gl_acc_id = 1005\n",
    "\n",
    "class Account:\n",
    "    balance = 0.0\n",
    "    acc_type = \"debit account\"\n",
    "    acc_id = -1\n",
    "    \n",
    "    def __init__(self):\n",
    "        acc_id = gl_acc_id\n",
    "        gl_acc_id += 1\n",
    "        \n",
    "    def __init__(self, balance, acc_id):\n",
    "        self.balance = balance\n",
    "        self.acc_id = acc_id"
   ]
  }
 ],
 "metadata": {
  "kernelspec": {
   "display_name": "Python 3 (ipykernel)",
   "language": "python",
   "name": "python3"
  },
  "language_info": {
   "codemirror_mode": {
    "name": "ipython",
    "version": 3
   },
   "file_extension": ".py",
   "mimetype": "text/x-python",
   "name": "python",
   "nbconvert_exporter": "python",
   "pygments_lexer": "ipython3",
   "version": "3.9.7"
  }
 },
 "nbformat": 4,
 "nbformat_minor": 5
}
