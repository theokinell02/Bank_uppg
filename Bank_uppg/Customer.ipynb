{
 "cells": [
  {
   "cell_type": "code",
   "execution_count": 34,
   "id": "07a91ab9",
   "metadata": {},
   "outputs": [
    {
     "name": "stdout",
     "output_type": "stream",
     "text": [
      "200.0\n",
      "1000\n"
     ]
    }
   ],
   "source": [
    "import Account as Acc\n",
    "\n",
    "class Customer:\n",
    "    gl_acc_id = 1000\n",
    "    id = -1\n",
    "    name = \"\"\n",
    "    pnr = 0\n",
    "    acc_list = []\n",
    "    transaction_list = []\n",
    "    \n",
    "    def __init__(self, id, name, pnr, acc_list_str=\"\"):\n",
    "        self.id = id\n",
    "        self.name = name\n",
    "        self.pnr = pnr\n",
    "        if(acc_list_str == \"\"):\n",
    "            self.acc_list.append(Acc.Account(self.gl_acc_id))\n",
    "            self.gl_acc_id += 1\n",
    "        else:\n",
    "            if(\"#\" in acc_list_str):\n",
    "                temp_acc_list_str = acc_list_str\n",
    "                for acc in range(acc_list_str.count(\"#\")):\n",
    "                    acc_str = temp_acc_list_str[:temp_acc_list_str.index(\"#\")]\n",
    "                    acc_id = int(acc_str[:acc_str.index(\":\")])\n",
    "                    acc_balance = float(acc_str[acc_str.rindex(\":\") + 1:])\n",
    "                    self.acc_list.append(Acc.Account(acc_id, acc_balance))\n",
    "                    self.gl_acc_id += 1\n",
    "                    temp_acc_list_str = temp_acc_list_str[temp_acc_list_str.index(\"#\") + 1:]\n",
    "                    \n",
    "                acc_id = acc_list_str[acc_list_str.rindex(\"#\") + 1:acc_list_str.index(\":\", acc_list_str.rindex(\"#\") + 1)]\n",
    "                acc_balance = float(acc_list_str[acc_list_str.rindex(\":\") + 1:])\n",
    "                self.acc_list.append(Acc.Account(acc_id, acc_balance))\n",
    "                self.gl_acc_id += 1\n",
    "            else:\n",
    "                acc_id = int(acc_list_str[:acc_list_str.index(\":\")])\n",
    "                acc_balance = float(acc_list_str[acc_list_str.rindex(\":\") + 1:])\n",
    "                self.acc_list.append(Acc.Account(acc_id, acc_balance))\n",
    "                self.gl_acc_id += 1"
   ]
  },
  {
   "cell_type": "code",
   "execution_count": null,
   "id": "28ab1ea2",
   "metadata": {},
   "outputs": [],
   "source": []
  }
 ],
 "metadata": {
  "kernelspec": {
   "display_name": "Python 3 (ipykernel)",
   "language": "python",
   "name": "python3"
  },
  "language_info": {
   "codemirror_mode": {
    "name": "ipython",
    "version": 3
   },
   "file_extension": ".py",
   "mimetype": "text/x-python",
   "name": "python",
   "nbconvert_exporter": "python",
   "pygments_lexer": "ipython3",
   "version": "3.9.7"
  }
 },
 "nbformat": 4,
 "nbformat_minor": 5
}
