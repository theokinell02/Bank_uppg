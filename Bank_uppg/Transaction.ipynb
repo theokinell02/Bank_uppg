{
 "cells": [
  {
   "cell_type": "code",
   "execution_count": null,
   "id": "39d8a502",
   "metadata": {},
   "outputs": [],
   "source": [
    "import datetime as datetime\n",
    "\n",
    "class Transaktion:\n",
    "    id = 0\n",
    "    customer_id = 0\n",
    "    acc_id = 0\n",
    "    date = \"\"\n",
    "    amount = 0\n",
    "    \n",
    "    def __init__(self, id, customer_id, acc_id, amount):\n",
    "        self.id = id\n",
    "        self.customer_id = customer_id\n",
    "        self.acc_id = acc_id\n",
    "        self.date = str(datetime.now())\n",
    "        self.amount = amount"
   ]
  }
 ],
 "metadata": {
  "kernelspec": {
   "display_name": "Python 3 (ipykernel)",
   "language": "python",
   "name": "python3"
  },
  "language_info": {
   "codemirror_mode": {
    "name": "ipython",
    "version": 3
   },
   "file_extension": ".py",
   "mimetype": "text/x-python",
   "name": "python",
   "nbconvert_exporter": "python",
   "pygments_lexer": "ipython3",
   "version": "3.9.7"
  }
 },
 "nbformat": 4,
 "nbformat_minor": 5
}
